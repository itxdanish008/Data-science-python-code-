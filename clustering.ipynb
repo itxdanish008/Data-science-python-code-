{
 "cells": [
  {
   "cell_type": "code",
   "execution_count": 1,
   "id": "31cc1a47",
   "metadata": {},
   "outputs": [],
   "source": [
    "import numpy as np\n",
    "import matplotlib.pyplot as plt\n",
    "import pandas as pd\n",
    "from sklearn import preprocessing\n",
    "from scipy.optimize import curve_fit\n",
    "from sklearn.cluster import KMeans"
   ]
  },
  {
   "cell_type": "code",
   "execution_count": 15,
   "id": "57cbf3ed",
   "metadata": {},
   "outputs": [
    {
     "data": {
      "text/html": [
       "<div>\n",
       "<style scoped>\n",
       "    .dataframe tbody tr th:only-of-type {\n",
       "        vertical-align: middle;\n",
       "    }\n",
       "\n",
       "    .dataframe tbody tr th {\n",
       "        vertical-align: top;\n",
       "    }\n",
       "\n",
       "    .dataframe thead th {\n",
       "        text-align: right;\n",
       "    }\n",
       "</style>\n",
       "<table border=\"1\" class=\"dataframe\">\n",
       "  <thead>\n",
       "    <tr style=\"text-align: right;\">\n",
       "      <th></th>\n",
       "      <th>Country Name</th>\n",
       "      <th>Country Code</th>\n",
       "      <th>Indicator Name</th>\n",
       "      <th>Indicator Code</th>\n",
       "      <th>1960</th>\n",
       "      <th>1961</th>\n",
       "      <th>1962</th>\n",
       "      <th>1963</th>\n",
       "      <th>1964</th>\n",
       "      <th>1965</th>\n",
       "      <th>...</th>\n",
       "      <th>2012</th>\n",
       "      <th>2013</th>\n",
       "      <th>2014</th>\n",
       "      <th>2015</th>\n",
       "      <th>2016</th>\n",
       "      <th>2017</th>\n",
       "      <th>2018</th>\n",
       "      <th>2019</th>\n",
       "      <th>2020</th>\n",
       "      <th>2021</th>\n",
       "    </tr>\n",
       "  </thead>\n",
       "  <tbody>\n",
       "    <tr>\n",
       "      <th>0</th>\n",
       "      <td>Aruba</td>\n",
       "      <td>ABW</td>\n",
       "      <td>Urban population (% of total population)</td>\n",
       "      <td>SP.URB.TOTL.IN.ZS</td>\n",
       "      <td>50.776000</td>\n",
       "      <td>50.761000</td>\n",
       "      <td>50.746000</td>\n",
       "      <td>50.730000</td>\n",
       "      <td>50.715000</td>\n",
       "      <td>50.700000</td>\n",
       "      <td>...</td>\n",
       "      <td>42.957000</td>\n",
       "      <td>42.990000</td>\n",
       "      <td>43.041000</td>\n",
       "      <td>43.108000</td>\n",
       "      <td>43.192000</td>\n",
       "      <td>43.293000</td>\n",
       "      <td>43.411000</td>\n",
       "      <td>43.546000</td>\n",
       "      <td>43.697000</td>\n",
       "      <td>NaN</td>\n",
       "    </tr>\n",
       "    <tr>\n",
       "      <th>1</th>\n",
       "      <td>Africa Eastern and Southern</td>\n",
       "      <td>AFE</td>\n",
       "      <td>Urban population (% of total population)</td>\n",
       "      <td>SP.URB.TOTL.IN.ZS</td>\n",
       "      <td>14.704688</td>\n",
       "      <td>14.944459</td>\n",
       "      <td>15.185608</td>\n",
       "      <td>15.444414</td>\n",
       "      <td>15.719076</td>\n",
       "      <td>16.001992</td>\n",
       "      <td>...</td>\n",
       "      <td>33.071687</td>\n",
       "      <td>33.507548</td>\n",
       "      <td>33.952424</td>\n",
       "      <td>34.405084</td>\n",
       "      <td>34.865101</td>\n",
       "      <td>35.332373</td>\n",
       "      <td>35.807770</td>\n",
       "      <td>36.291322</td>\n",
       "      <td>36.783306</td>\n",
       "      <td>NaN</td>\n",
       "    </tr>\n",
       "    <tr>\n",
       "      <th>2</th>\n",
       "      <td>Afghanistan</td>\n",
       "      <td>AFG</td>\n",
       "      <td>Urban population (% of total population)</td>\n",
       "      <td>SP.URB.TOTL.IN.ZS</td>\n",
       "      <td>8.401000</td>\n",
       "      <td>8.684000</td>\n",
       "      <td>8.976000</td>\n",
       "      <td>9.276000</td>\n",
       "      <td>9.586000</td>\n",
       "      <td>9.904000</td>\n",
       "      <td>...</td>\n",
       "      <td>24.160000</td>\n",
       "      <td>24.373000</td>\n",
       "      <td>24.587000</td>\n",
       "      <td>24.803000</td>\n",
       "      <td>25.020000</td>\n",
       "      <td>25.250000</td>\n",
       "      <td>25.495000</td>\n",
       "      <td>25.754000</td>\n",
       "      <td>26.026000</td>\n",
       "      <td>NaN</td>\n",
       "    </tr>\n",
       "    <tr>\n",
       "      <th>3</th>\n",
       "      <td>Africa Western and Central</td>\n",
       "      <td>AFW</td>\n",
       "      <td>Urban population (% of total population)</td>\n",
       "      <td>SP.URB.TOTL.IN.ZS</td>\n",
       "      <td>14.670329</td>\n",
       "      <td>15.053577</td>\n",
       "      <td>15.449282</td>\n",
       "      <td>15.864021</td>\n",
       "      <td>16.294984</td>\n",
       "      <td>16.741361</td>\n",
       "      <td>...</td>\n",
       "      <td>42.901035</td>\n",
       "      <td>43.530704</td>\n",
       "      <td>44.157131</td>\n",
       "      <td>44.781373</td>\n",
       "      <td>45.401809</td>\n",
       "      <td>46.019334</td>\n",
       "      <td>46.633138</td>\n",
       "      <td>47.242853</td>\n",
       "      <td>47.848625</td>\n",
       "      <td>NaN</td>\n",
       "    </tr>\n",
       "    <tr>\n",
       "      <th>4</th>\n",
       "      <td>Angola</td>\n",
       "      <td>AGO</td>\n",
       "      <td>Urban population (% of total population)</td>\n",
       "      <td>SP.URB.TOTL.IN.ZS</td>\n",
       "      <td>10.435000</td>\n",
       "      <td>10.798000</td>\n",
       "      <td>11.204000</td>\n",
       "      <td>11.624000</td>\n",
       "      <td>12.058000</td>\n",
       "      <td>12.504000</td>\n",
       "      <td>...</td>\n",
       "      <td>61.268000</td>\n",
       "      <td>62.002000</td>\n",
       "      <td>62.731000</td>\n",
       "      <td>63.446000</td>\n",
       "      <td>64.149000</td>\n",
       "      <td>64.839000</td>\n",
       "      <td>65.514000</td>\n",
       "      <td>66.177000</td>\n",
       "      <td>66.825000</td>\n",
       "      <td>NaN</td>\n",
       "    </tr>\n",
       "    <tr>\n",
       "      <th>...</th>\n",
       "      <td>...</td>\n",
       "      <td>...</td>\n",
       "      <td>...</td>\n",
       "      <td>...</td>\n",
       "      <td>...</td>\n",
       "      <td>...</td>\n",
       "      <td>...</td>\n",
       "      <td>...</td>\n",
       "      <td>...</td>\n",
       "      <td>...</td>\n",
       "      <td>...</td>\n",
       "      <td>...</td>\n",
       "      <td>...</td>\n",
       "      <td>...</td>\n",
       "      <td>...</td>\n",
       "      <td>...</td>\n",
       "      <td>...</td>\n",
       "      <td>...</td>\n",
       "      <td>...</td>\n",
       "      <td>...</td>\n",
       "      <td>...</td>\n",
       "    </tr>\n",
       "    <tr>\n",
       "      <th>258</th>\n",
       "      <td>Samoa</td>\n",
       "      <td>WSM</td>\n",
       "      <td>Urban population (% of total population)</td>\n",
       "      <td>SP.URB.TOTL.IN.ZS</td>\n",
       "      <td>18.926000</td>\n",
       "      <td>18.986000</td>\n",
       "      <td>19.061000</td>\n",
       "      <td>19.141000</td>\n",
       "      <td>19.221000</td>\n",
       "      <td>19.301000</td>\n",
       "      <td>...</td>\n",
       "      <td>19.624000</td>\n",
       "      <td>19.385000</td>\n",
       "      <td>19.149000</td>\n",
       "      <td>18.914000</td>\n",
       "      <td>18.681000</td>\n",
       "      <td>18.452000</td>\n",
       "      <td>18.243000</td>\n",
       "      <td>18.056000</td>\n",
       "      <td>17.889000</td>\n",
       "      <td>NaN</td>\n",
       "    </tr>\n",
       "    <tr>\n",
       "      <th>259</th>\n",
       "      <td>Yemen, Rep.</td>\n",
       "      <td>YEM</td>\n",
       "      <td>Urban population (% of total population)</td>\n",
       "      <td>SP.URB.TOTL.IN.ZS</td>\n",
       "      <td>9.100000</td>\n",
       "      <td>9.459000</td>\n",
       "      <td>9.831000</td>\n",
       "      <td>10.216000</td>\n",
       "      <td>10.614000</td>\n",
       "      <td>11.026000</td>\n",
       "      <td>...</td>\n",
       "      <td>32.958000</td>\n",
       "      <td>33.559000</td>\n",
       "      <td>34.165000</td>\n",
       "      <td>34.777000</td>\n",
       "      <td>35.394000</td>\n",
       "      <td>36.016000</td>\n",
       "      <td>36.642000</td>\n",
       "      <td>37.273000</td>\n",
       "      <td>37.908000</td>\n",
       "      <td>NaN</td>\n",
       "    </tr>\n",
       "    <tr>\n",
       "      <th>260</th>\n",
       "      <td>South Africa</td>\n",
       "      <td>ZAF</td>\n",
       "      <td>Urban population (% of total population)</td>\n",
       "      <td>SP.URB.TOTL.IN.ZS</td>\n",
       "      <td>46.619000</td>\n",
       "      <td>46.793000</td>\n",
       "      <td>46.906000</td>\n",
       "      <td>47.020000</td>\n",
       "      <td>47.134000</td>\n",
       "      <td>47.248000</td>\n",
       "      <td>...</td>\n",
       "      <td>63.272000</td>\n",
       "      <td>63.793000</td>\n",
       "      <td>64.312000</td>\n",
       "      <td>64.828000</td>\n",
       "      <td>65.341000</td>\n",
       "      <td>65.850000</td>\n",
       "      <td>66.355000</td>\n",
       "      <td>66.856000</td>\n",
       "      <td>67.354000</td>\n",
       "      <td>NaN</td>\n",
       "    </tr>\n",
       "    <tr>\n",
       "      <th>261</th>\n",
       "      <td>Zambia</td>\n",
       "      <td>ZMB</td>\n",
       "      <td>Urban population (% of total population)</td>\n",
       "      <td>SP.URB.TOTL.IN.ZS</td>\n",
       "      <td>18.145000</td>\n",
       "      <td>18.951000</td>\n",
       "      <td>19.785000</td>\n",
       "      <td>20.712000</td>\n",
       "      <td>22.015000</td>\n",
       "      <td>23.372000</td>\n",
       "      <td>...</td>\n",
       "      <td>40.354000</td>\n",
       "      <td>40.865000</td>\n",
       "      <td>41.382000</td>\n",
       "      <td>41.907000</td>\n",
       "      <td>42.438000</td>\n",
       "      <td>42.976000</td>\n",
       "      <td>43.521000</td>\n",
       "      <td>44.072000</td>\n",
       "      <td>44.629000</td>\n",
       "      <td>NaN</td>\n",
       "    </tr>\n",
       "    <tr>\n",
       "      <th>262</th>\n",
       "      <td>Zimbabwe</td>\n",
       "      <td>ZWE</td>\n",
       "      <td>Urban population (% of total population)</td>\n",
       "      <td>SP.URB.TOTL.IN.ZS</td>\n",
       "      <td>12.608000</td>\n",
       "      <td>12.821000</td>\n",
       "      <td>13.082000</td>\n",
       "      <td>13.578000</td>\n",
       "      <td>14.092000</td>\n",
       "      <td>14.620000</td>\n",
       "      <td>...</td>\n",
       "      <td>32.834000</td>\n",
       "      <td>32.654000</td>\n",
       "      <td>32.504000</td>\n",
       "      <td>32.385000</td>\n",
       "      <td>32.296000</td>\n",
       "      <td>32.237000</td>\n",
       "      <td>32.209000</td>\n",
       "      <td>32.210000</td>\n",
       "      <td>32.242000</td>\n",
       "      <td>NaN</td>\n",
       "    </tr>\n",
       "  </tbody>\n",
       "</table>\n",
       "<p>263 rows × 66 columns</p>\n",
       "</div>"
      ],
      "text/plain": [
       "                    Country Name Country Code  \\\n",
       "0                          Aruba          ABW   \n",
       "1    Africa Eastern and Southern          AFE   \n",
       "2                    Afghanistan          AFG   \n",
       "3     Africa Western and Central          AFW   \n",
       "4                         Angola          AGO   \n",
       "..                           ...          ...   \n",
       "258                        Samoa          WSM   \n",
       "259                  Yemen, Rep.          YEM   \n",
       "260                 South Africa          ZAF   \n",
       "261                       Zambia          ZMB   \n",
       "262                     Zimbabwe          ZWE   \n",
       "\n",
       "                               Indicator Name     Indicator Code       1960  \\\n",
       "0    Urban population (% of total population)  SP.URB.TOTL.IN.ZS  50.776000   \n",
       "1    Urban population (% of total population)  SP.URB.TOTL.IN.ZS  14.704688   \n",
       "2    Urban population (% of total population)  SP.URB.TOTL.IN.ZS   8.401000   \n",
       "3    Urban population (% of total population)  SP.URB.TOTL.IN.ZS  14.670329   \n",
       "4    Urban population (% of total population)  SP.URB.TOTL.IN.ZS  10.435000   \n",
       "..                                        ...                ...        ...   \n",
       "258  Urban population (% of total population)  SP.URB.TOTL.IN.ZS  18.926000   \n",
       "259  Urban population (% of total population)  SP.URB.TOTL.IN.ZS   9.100000   \n",
       "260  Urban population (% of total population)  SP.URB.TOTL.IN.ZS  46.619000   \n",
       "261  Urban population (% of total population)  SP.URB.TOTL.IN.ZS  18.145000   \n",
       "262  Urban population (% of total population)  SP.URB.TOTL.IN.ZS  12.608000   \n",
       "\n",
       "          1961       1962       1963       1964       1965  ...       2012  \\\n",
       "0    50.761000  50.746000  50.730000  50.715000  50.700000  ...  42.957000   \n",
       "1    14.944459  15.185608  15.444414  15.719076  16.001992  ...  33.071687   \n",
       "2     8.684000   8.976000   9.276000   9.586000   9.904000  ...  24.160000   \n",
       "3    15.053577  15.449282  15.864021  16.294984  16.741361  ...  42.901035   \n",
       "4    10.798000  11.204000  11.624000  12.058000  12.504000  ...  61.268000   \n",
       "..         ...        ...        ...        ...        ...  ...        ...   \n",
       "258  18.986000  19.061000  19.141000  19.221000  19.301000  ...  19.624000   \n",
       "259   9.459000   9.831000  10.216000  10.614000  11.026000  ...  32.958000   \n",
       "260  46.793000  46.906000  47.020000  47.134000  47.248000  ...  63.272000   \n",
       "261  18.951000  19.785000  20.712000  22.015000  23.372000  ...  40.354000   \n",
       "262  12.821000  13.082000  13.578000  14.092000  14.620000  ...  32.834000   \n",
       "\n",
       "          2013       2014       2015       2016       2017       2018  \\\n",
       "0    42.990000  43.041000  43.108000  43.192000  43.293000  43.411000   \n",
       "1    33.507548  33.952424  34.405084  34.865101  35.332373  35.807770   \n",
       "2    24.373000  24.587000  24.803000  25.020000  25.250000  25.495000   \n",
       "3    43.530704  44.157131  44.781373  45.401809  46.019334  46.633138   \n",
       "4    62.002000  62.731000  63.446000  64.149000  64.839000  65.514000   \n",
       "..         ...        ...        ...        ...        ...        ...   \n",
       "258  19.385000  19.149000  18.914000  18.681000  18.452000  18.243000   \n",
       "259  33.559000  34.165000  34.777000  35.394000  36.016000  36.642000   \n",
       "260  63.793000  64.312000  64.828000  65.341000  65.850000  66.355000   \n",
       "261  40.865000  41.382000  41.907000  42.438000  42.976000  43.521000   \n",
       "262  32.654000  32.504000  32.385000  32.296000  32.237000  32.209000   \n",
       "\n",
       "          2019       2020  2021  \n",
       "0    43.546000  43.697000   NaN  \n",
       "1    36.291322  36.783306   NaN  \n",
       "2    25.754000  26.026000   NaN  \n",
       "3    47.242853  47.848625   NaN  \n",
       "4    66.177000  66.825000   NaN  \n",
       "..         ...        ...   ...  \n",
       "258  18.056000  17.889000   NaN  \n",
       "259  37.273000  37.908000   NaN  \n",
       "260  66.856000  67.354000   NaN  \n",
       "261  44.072000  44.629000   NaN  \n",
       "262  32.210000  32.242000   NaN  \n",
       "\n",
       "[263 rows x 66 columns]"
      ]
     },
     "execution_count": 15,
     "metadata": {},
     "output_type": "execute_result"
    }
   ],
   "source": [
    "# dataset\n",
    "urban_df = pd.read_csv('urban population.csv')\n",
    "\n",
    "'''choose for clustering because its very long dataset but we only choose two years for clustering\n",
    "    we also remove all of the nul values to make error free clusters'''\n",
    "Df_urban = urban_df[[\"2019\",\"2020\"]].dropna()\n",
    "# make arrary\n",
    "X = Df_urban.values\n"
   ]
  },
  {
   "cell_type": "code",
   "execution_count": 3,
   "id": "eb8b24b7",
   "metadata": {},
   "outputs": [
    {
     "data": {
      "text/html": [
       "<div>\n",
       "<style scoped>\n",
       "    .dataframe tbody tr th:only-of-type {\n",
       "        vertical-align: middle;\n",
       "    }\n",
       "\n",
       "    .dataframe tbody tr th {\n",
       "        vertical-align: top;\n",
       "    }\n",
       "\n",
       "    .dataframe thead th {\n",
       "        text-align: right;\n",
       "    }\n",
       "</style>\n",
       "<table border=\"1\" class=\"dataframe\">\n",
       "  <thead>\n",
       "    <tr style=\"text-align: right;\">\n",
       "      <th></th>\n",
       "      <th>2019</th>\n",
       "      <th>2020</th>\n",
       "    </tr>\n",
       "  </thead>\n",
       "  <tbody>\n",
       "    <tr>\n",
       "      <th>count</th>\n",
       "      <td>262.000000</td>\n",
       "      <td>262.000000</td>\n",
       "    </tr>\n",
       "    <tr>\n",
       "      <th>mean</th>\n",
       "      <td>60.231410</td>\n",
       "      <td>60.558663</td>\n",
       "    </tr>\n",
       "    <tr>\n",
       "      <th>std</th>\n",
       "      <td>22.725521</td>\n",
       "      <td>22.663185</td>\n",
       "    </tr>\n",
       "    <tr>\n",
       "      <th>min</th>\n",
       "      <td>13.250000</td>\n",
       "      <td>13.345000</td>\n",
       "    </tr>\n",
       "    <tr>\n",
       "      <th>25%</th>\n",
       "      <td>42.201414</td>\n",
       "      <td>42.493195</td>\n",
       "    </tr>\n",
       "    <tr>\n",
       "      <th>50%</th>\n",
       "      <td>60.172500</td>\n",
       "      <td>61.063159</td>\n",
       "    </tr>\n",
       "    <tr>\n",
       "      <th>75%</th>\n",
       "      <td>79.904000</td>\n",
       "      <td>80.314584</td>\n",
       "    </tr>\n",
       "    <tr>\n",
       "      <th>max</th>\n",
       "      <td>100.000000</td>\n",
       "      <td>100.000000</td>\n",
       "    </tr>\n",
       "  </tbody>\n",
       "</table>\n",
       "</div>"
      ],
      "text/plain": [
       "             2019        2020\n",
       "count  262.000000  262.000000\n",
       "mean    60.231410   60.558663\n",
       "std     22.725521   22.663185\n",
       "min     13.250000   13.345000\n",
       "25%     42.201414   42.493195\n",
       "50%     60.172500   61.063159\n",
       "75%     79.904000   80.314584\n",
       "max    100.000000  100.000000"
      ]
     },
     "execution_count": 3,
     "metadata": {},
     "output_type": "execute_result"
    }
   ],
   "source": [
    "'''desribe the choosen dataset'''\n",
    "Df_urban.describe()"
   ]
  },
  {
   "cell_type": "code",
   "execution_count": 4,
   "id": "58b1bb43",
   "metadata": {
    "scrolled": true
   },
   "outputs": [],
   "source": [
    "\n",
    "'''Min max scaler is used for normaliazation for this we use simple library of python sklearn preprocessing'''\n",
    "\n",
    "scaler = preprocessing.MinMaxScaler()\n",
    "names = Df_urban.columns\n",
    "de= scaler.fit_transform(Df_urban)\n",
    "scaled_df = pd.DataFrame(de,columns=names)"
   ]
  },
  {
   "cell_type": "code",
   "execution_count": 9,
   "id": "31e5bb23",
   "metadata": {},
   "outputs": [
    {
     "name": "stderr",
     "output_type": "stream",
     "text": [
      "E:\\Files\\lib\\site-packages\\scipy\\optimize\\minpack.py:833: OptimizeWarning: Covariance of the parameters could not be estimated\n",
      "  warnings.warn('Covariance of the parameters could not be estimated',\n"
     ]
    },
    {
     "data": {
      "image/png": "[encoded data removed]",
      "text/plain": [
       "<Figure size 720x576 with 1 Axes>"
      ]
     },
     "metadata": {
      "needs_background": "light"
     },
     "output_type": "display_data"
    }
   ],
   "source": [
    "\n",
    "'''fitting the dataset using curve fit '''\n",
    "from scipy.optimize import curve_fit\n",
    "\n",
    "'''split in x and y'''\n",
    "\n",
    "x = Df_urban[\"2019\"]\n",
    "y = Df_urban[\"2020\"]\n",
    "\n",
    "def temp(x, A, B):\n",
    "    y = A*np.exp(-1*B*x**2)\n",
    "    return y\n",
    "    \n",
    "'''that above function is guassian function that is for fit the model using curve_fit'''\n",
    "param, cov = curve_fit(temp,x, y)\n",
    "fitA = param[0]\n",
    "fitB = param[1]\n",
    "fit_y = temp(X, fitA, fitB)\n",
    "\n",
    "#     plotting\n",
    "plt.figure(figsize=(10,8))\n",
    "\n",
    "plt.rcParams['axes.facecolor'] = 'black'\n",
    "plt.plot(x, y,'o', label='data', color=\"orange\")\n",
    "plt.title(\"curve fit method\")\n",
    "plt.plot(x, fit_y, '-', label='fit')\n",
    "plt.legend()\n",
    "plt.show()"
   ]
  },
  {
   "cell_type": "code",
   "execution_count": 11,
   "id": "df106053",
   "metadata": {},
   "outputs": [
    {
     "name": "stderr",
     "output_type": "stream",
     "text": [
      "E:\\Files\\lib\\site-packages\\sklearn\\cluster\\_kmeans.py:881: UserWarning: KMeans is known to have a memory leak on Windows with MKL, when there are less chunks than available threads. You can avoid it by setting the environment variable OMP_NUM_THREADS=2.\n",
      "  warnings.warn(\n"
     ]
    }
   ],
   "source": [
    "# future values prediction\n",
    "'''finding possible num of cluster in given dataset using elbow graph'''\n",
    "wcss = []\n",
    "for i in range(1,11):\n",
    "    kmeans = KMeans(n_clusters = i, init = \"k-means++\")\n",
    "    kmeans.fit(X)\n",
    "    wcss.append(kmeans.inertia_)"
   ]
  },
  {
   "cell_type": "code",
   "execution_count": 12,
   "id": "c489c887",
   "metadata": {},
   "outputs": [
    {
     "data": {
      "image/png": "[encoded data removed]",
      "text/plain": [
       "<Figure size 720x576 with 1 Axes>"
      ]
     },
     "metadata": {
      "needs_background": "light"
     },
     "output_type": "display_data"
    }
   ],
   "source": [
    "\n",
    "plt.figure(figsize=(10,8))\n",
    "plt.rcParams['axes.facecolor'] = 'black'\n",
    "plt.title(\"Elbow Curve\")\n",
    "plt.plot(range(1,11),wcss, linestyle =\"dotted\", color=\"orange\")\n",
    "plt.show()"
   ]
  },
  {
   "cell_type": "code",
   "execution_count": 13,
   "id": "8da43d51",
   "metadata": {},
   "outputs": [
    {
     "data": {
      "text/plain": [
       "array([1, 1, 4, 1, 0, 0, 3, 0, 3, 3, 0, 3, 4, 3, 0, 0, 4, 3, 1, 4, 1, 2,\n",
       "       3, 2, 1, 2, 1, 3, 2, 3, 4, 2, 1, 2, 1, 2, 0, 2, 4, 3, 0, 0, 0, 1,\n",
       "       0, 2, 4, 0, 2, 0, 2, 3, 3, 0, 2, 2, 2, 2, 3, 2, 2, 0, 1, 0, 0, 2,\n",
       "       0, 1, 2, 2, 2, 4, 2, 1, 3, 0, 2, 1, 4, 3, 2, 0, 0, 3, 1, 0, 1, 2,\n",
       "       2, 1, 3, 0, 3, 4, 2, 3, 0, 1, 0, 0, 2, 0, 0, 1, 1, 0, 1, 0, 1, 0,\n",
       "       2, 2, 3, 3, 2, 0, 3, 3, 0, 4, 1, 4, 0, 4, 2, 3, 2, 1, 3, 0, 2, 4,\n",
       "       2, 1, 1, 4, 4, 1, 0, 4, 0, 2, 3, 2, 3, 0, 3, 1, 1, 1, 0, 2, 2, 0,\n",
       "       0, 1, 3, 4, 0, 0, 2, 3, 1, 0, 1, 4, 2, 2, 0, 2, 4, 0, 0, 3, 2, 4,\n",
       "       3, 3, 2, 3, 0, 1, 2, 2, 1, 2, 4, 0, 1, 3, 0, 0, 0, 2, 1, 2, 0, 3,\n",
       "       0, 2, 4, 1, 2, 1, 1, 3, 4, 1, 2, 3, 1, 0, 1, 4, 1, 0, 2, 0, 0, 0,\n",
       "       3, 4, 3, 0, 0, 3, 4, 0, 0, 1, 0, 4, 0, 2, 4, 0, 4, 1, 1, 0, 2, 2,\n",
       "       0, 1, 4, 2, 0, 3, 2, 0, 0, 3, 1, 3, 1, 4, 0, 4, 1, 0, 1, 1])"
      ]
     },
     "execution_count": 13,
     "metadata": {},
     "output_type": "execute_result"
    }
   ],
   "source": [
    "\n",
    "'''5 clusters easily make from this dataset as we determine in elbow graph'''\n",
    "# use buitlin function for kmean cluster of sklearn.cluster\n",
    "kmeans = KMeans(n_clusters = 5, init = \"k-means++\")\n",
    "y_kmeans = kmeans.fit_predict(X)\n",
    "y_kmeans\n",
    "\n"
   ]
  },
  {
   "cell_type": "code",
   "execution_count": 14,
   "id": "3534dcc0",
   "metadata": {},
   "outputs": [
    {
     "data": {
      "image/png": "[encoded data removed]",
      "text/plain": [
       "<Figure size 432x288 with 1 Axes>"
      ]
     },
     "metadata": {
      "needs_background": "light"
     },
     "output_type": "display_data"
    },
    {
     "data": {
      "image/png": "[encoded data removed]",
      "text/plain": [
       "<Figure size 432x288 with 1 Axes>"
      ]
     },
     "metadata": {
      "needs_background": "light"
     },
     "output_type": "display_data"
    },
    {
     "data": {
      "image/png": "[encoded data removed]",
      "text/plain": [
       "<Figure size 432x288 with 1 Axes>"
      ]
     },
     "metadata": {
      "needs_background": "light"
     },
     "output_type": "display_data"
    },
    {
     "data": {
      "image/png": "[encoded data removed]",
      "text/plain": [
       "<Figure size 432x288 with 1 Axes>"
      ]
     },
     "metadata": {
      "needs_background": "light"
     },
     "output_type": "display_data"
    },
    {
     "data": {
      "image/png": "[encoded data removed]",
      "text/plain": [
       "<Figure size 432x288 with 1 Axes>"
      ]
     },
     "metadata": {
      "needs_background": "light"
     },
     "output_type": "display_data"
    }
   ],
   "source": [
    "# Interpretation of the results.\n",
    "'''according to prediction of k mean most of values are 0 then 2 then 3 and 1 is at last \n",
    "first cluster is of 0\n",
    "second cluster is of 2\n",
    "third cluster is of 3\n",
    "fourth cluster is of 1'''\n",
    "\n",
    "c = [\"pink\",\"orange\", \"red\",\"purple\",\"white\"]\n",
    "for i in range(5):\n",
    "#     plt.figure(figsize=(10,8))\n",
    "    string = f\"cluter no {i+1} that denote {i}\"\n",
    "    plt.title(string)\n",
    "    plt.scatter(X[y_kmeans==i,0], X[y_kmeans==i,1], color=c[i])\n",
    "    plt.show()"
   ]
  },
  {
   "cell_type": "code",
   "execution_count": 27,
   "id": "19764a98",
   "metadata": {},
   "outputs": [
    {
     "data": {
      "text/plain": [
       "<matplotlib.collections.PathCollection at 0x1e3e28e6dc0>"
      ]
     },
     "execution_count": 27,
     "metadata": {},
     "output_type": "execute_result"
    },
    {
     "data": {
      "image/png": "[encoded data removed]",
      "text/plain": [
       "<Figure size 720x576 with 1 Axes>"
      ]
     },
     "metadata": {
      "needs_background": "light"
     },
     "output_type": "display_data"
    }
   ],
   "source": [
    "'''now we plotting all in single frame to make different clusters finally'''\n",
    "\n",
    "\n",
    "plt.figure(figsize = (10,8))\n",
    "plt.title(\"K Mean Clustering\")\n",
    "plt.scatter(X[y_kmeans==0,0], X[y_kmeans==0,1],s=100, c=\"pink\")\n",
    "plt.scatter(X[y_kmeans==1,0], X[y_kmeans==1,1],s=100, c=\"orange\")\n",
    "plt.scatter(X[y_kmeans==2,0], X[y_kmeans==2,1],s=100, c=\"red\")\n",
    "plt.scatter(X[y_kmeans==3,0], X[y_kmeans==3,1],s=100, c=\"purple\")\n",
    "plt.scatter(X[y_kmeans==4,0], X[y_kmeans==4,1],s=100, c=\"white\")\n",
    "\n",
    "\n",
    "\n"
   ]
  },
  {
   "cell_type": "code",
   "execution_count": null,
   "id": "48dc0bc2",
   "metadata": {},
   "outputs": [],
   "source": []
  }
 ],
 "metadata": {
  "kernelspec": {
   "display_name": "Python 3 (ipykernel)",
   "language": "python",
   "name": "python3"
  },
  "language_info": {
   "codemirror_mode": {
    "name": "ipython",
    "version": 3
   },
   "file_extension": ".py",
   "mimetype": "text/x-python",
   "name": "python",
   "nbconvert_exporter": "python",
   "pygments_lexer": "ipython3",
   "version": "3.9.12"
  }
 },
 "nbformat": 4,
 "nbformat_minor": 5
}
