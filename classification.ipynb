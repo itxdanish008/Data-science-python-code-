{
 "cells": [
  {
   "cell_type": "code",
   "execution_count": 1,
   "id": "31cc1a47",
   "metadata": {},
   "outputs": [],
   "source": [
    "# necessary libraries\n",
    "import numpy as np\n",
    "import matplotlib.pyplot as plt\n",
    "import pandas as pd"
   ]
  },
  {
   "cell_type": "code",
   "execution_count": 2,
   "id": "57cbf3ed",
   "metadata": {},
   "outputs": [],
   "source": [
    "# dataset\n",
    "dataset = pd.read_csv('gdp per capita.csv')\n",
    "\n",
    "'''choose for clustering because its very long dataset but we only choose two years for clustering'''\n",
    "df = dataset[[\"1961\",\"1962\"]]\n",
    "\n",
    "\n",
    "'''droping null values because it making error in clustering due to this reason we remove all null records sorry for that '''\n",
    "\n",
    "X = df.dropna()\n",
    "\n",
    "# make arrary\n",
    "Y = X.values\n"
   ]
  },
  {
   "cell_type": "code",
   "execution_count": 3,
   "id": "eb8b24b7",
   "metadata": {},
   "outputs": [
    {
     "data": {
      "text/html": [
       "<div>\n",
       "<style scoped>\n",
       "    .dataframe tbody tr th:only-of-type {\n",
       "        vertical-align: middle;\n",
       "    }\n",
       "\n",
       "    .dataframe tbody tr th {\n",
       "        vertical-align: top;\n",
       "    }\n",
       "\n",
       "    .dataframe thead th {\n",
       "        text-align: right;\n",
       "    }\n",
       "</style>\n",
       "<table border=\"1\" class=\"dataframe\">\n",
       "  <thead>\n",
       "    <tr style=\"text-align: right;\">\n",
       "      <th></th>\n",
       "      <th>1961</th>\n",
       "      <th>1962</th>\n",
       "    </tr>\n",
       "  </thead>\n",
       "  <tbody>\n",
       "    <tr>\n",
       "      <th>count</th>\n",
       "      <td>134.000000</td>\n",
       "      <td>137.000000</td>\n",
       "    </tr>\n",
       "    <tr>\n",
       "      <th>mean</th>\n",
       "      <td>491.319126</td>\n",
       "      <td>513.310714</td>\n",
       "    </tr>\n",
       "    <tr>\n",
       "      <th>std</th>\n",
       "      <td>639.768277</td>\n",
       "      <td>668.981516</td>\n",
       "    </tr>\n",
       "    <tr>\n",
       "      <th>min</th>\n",
       "      <td>26.308357</td>\n",
       "      <td>26.985920</td>\n",
       "    </tr>\n",
       "    <tr>\n",
       "      <th>25%</th>\n",
       "      <td>109.078291</td>\n",
       "      <td>114.581807</td>\n",
       "    </tr>\n",
       "    <tr>\n",
       "      <th>50%</th>\n",
       "      <td>197.158225</td>\n",
       "      <td>203.437370</td>\n",
       "    </tr>\n",
       "    <tr>\n",
       "      <th>75%</th>\n",
       "      <td>475.401427</td>\n",
       "      <td>520.206131</td>\n",
       "    </tr>\n",
       "    <tr>\n",
       "      <th>max</th>\n",
       "      <td>3066.562869</td>\n",
       "      <td>3243.843078</td>\n",
       "    </tr>\n",
       "  </tbody>\n",
       "</table>\n",
       "</div>"
      ],
      "text/plain": [
       "              1961         1962\n",
       "count   134.000000   137.000000\n",
       "mean    491.319126   513.310714\n",
       "std     639.768277   668.981516\n",
       "min      26.308357    26.985920\n",
       "25%     109.078291   114.581807\n",
       "50%     197.158225   203.437370\n",
       "75%     475.401427   520.206131\n",
       "max    3066.562869  3243.843078"
      ]
     },
     "execution_count": 3,
     "metadata": {},
     "output_type": "execute_result"
    }
   ],
   "source": [
    "df.describe()"
   ]
  },
  {
   "cell_type": "code",
   "execution_count": 6,
   "id": "385b2f83",
   "metadata": {},
   "outputs": [
    {
     "data": {
      "image/png": "[encoded data removed]",
      "text/plain": [
       "<Figure size 432x288 with 1 Axes>"
      ]
     },
     "metadata": {
      "needs_background": "light"
     },
     "output_type": "display_data"
    }
   ],
   "source": [
    "plt.scatter(Y[:,0], Y[:,1])\n",
    "plt.show()"
   ]
  },
  {
   "cell_type": "code",
   "execution_count": 52,
   "id": "58b1bb43",
   "metadata": {
    "scrolled": true
   },
   "outputs": [
    {
     "data": {
      "text/plain": [
       "array([[0.68539761, 0.72816902],\n",
       "       [0.71544056, 0.6986736 ],\n",
       "       [0.68936474, 0.72441442],\n",
       "       [0.71144322, 0.70274358],\n",
       "       [0.68817869, 0.72554124],\n",
       "       [0.69592995, 0.71810967],\n",
       "       [0.68436782, 0.72913695],\n",
       "       [0.71121646, 0.70297307],\n",
       "       [0.68302701, 0.73039312],\n",
       "       [0.69801292, 0.71608516],\n",
       "       [0.68571383, 0.72787124],\n",
       "       [0.69526851, 0.7187501 ],\n",
       "       [0.69658057, 0.71747858],\n",
       "       [0.6820887 , 0.73126945],\n",
       "       [0.67901578, 0.73412368],\n",
       "       [0.68609426, 0.72751266],\n",
       "       [0.7091927 , 0.70501469],\n",
       "       [0.70267822, 0.71150777],\n",
       "       [0.67900097, 0.73413738],\n",
       "       [0.65586229, 0.75488056],\n",
       "       [0.73029894, 0.6831277 ],\n",
       "       [0.70527003, 0.70893878],\n",
       "       [0.69271847, 0.7212081 ],\n",
       "       [0.64215999, 0.76657064],\n",
       "       [0.68244371, 0.73093815],\n",
       "       [0.68694259, 0.72671169],\n",
       "       [0.72800651, 0.68557021],\n",
       "       [0.69401059, 0.7199648 ],\n",
       "       [0.63428749, 0.77309726],\n",
       "       [0.78011534, 0.62563572],\n",
       "       [0.74286809, 0.66943782],\n",
       "       [0.70495225, 0.70925476],\n",
       "       [0.70471479, 0.70949071],\n",
       "       [0.76519963, 0.64379308],\n",
       "       [0.67241912, 0.74017061],\n",
       "       [0.65427275, 0.75625866],\n",
       "       [0.68502698, 0.7285177 ],\n",
       "       [0.701949  , 0.71222721],\n",
       "       [0.67093251, 0.74151842],\n",
       "       [0.67984445, 0.73335634],\n",
       "       [0.6944048 , 0.71958459],\n",
       "       [0.69737391, 0.71670749],\n",
       "       [0.69155933, 0.72231966],\n",
       "       [0.69609296, 0.71795167],\n",
       "       [0.70023558, 0.71391185],\n",
       "       [0.68428254, 0.72921698],\n",
       "       [0.66703476, 0.7450266 ],\n",
       "       [0.6866803 , 0.72695953],\n",
       "       [0.6852969 , 0.7282638 ],\n",
       "       [0.70007945, 0.71406495],\n",
       "       [0.70470684, 0.70949861],\n",
       "       [0.70238562, 0.71179663],\n",
       "       [0.6890501 , 0.72471371],\n",
       "       [0.69178342, 0.72210505],\n",
       "       [0.68755759, 0.72612985],\n",
       "       [0.68860795, 0.72513384],\n",
       "       [0.6800554 , 0.73316073],\n",
       "       [0.69551301, 0.7185135 ],\n",
       "       [0.67213185, 0.74043148],\n",
       "       [0.79536559, 0.60612999],\n",
       "       [0.66734373, 0.74474985],\n",
       "       [0.69870438, 0.7154105 ],\n",
       "       [0.66458448, 0.74721314],\n",
       "       [0.68598841, 0.72761246],\n",
       "       [0.70703954, 0.70717402],\n",
       "       [0.70382437, 0.71037403],\n",
       "       [0.66228892, 0.74924855],\n",
       "       [0.68705609, 0.72660439],\n",
       "       [0.6841416 , 0.72934921],\n",
       "       [0.71783273, 0.69621561],\n",
       "       [0.70961693, 0.70458769],\n",
       "       [0.70454534, 0.70965898],\n",
       "       [0.65597095, 0.75478614],\n",
       "       [0.70524618, 0.7089625 ],\n",
       "       [0.69302492, 0.72091363],\n",
       "       [0.65941774, 0.75177672],\n",
       "       [0.69591324, 0.71812587],\n",
       "       [0.69289483, 0.72103867],\n",
       "       [0.70609855, 0.70811358],\n",
       "       [0.69806048, 0.7160388 ],\n",
       "       [0.70643475, 0.70777817],\n",
       "       [0.69868169, 0.71543266],\n",
       "       [0.70036837, 0.71378158],\n",
       "       [0.68805405, 0.72565944],\n",
       "       [0.68502096, 0.72852336],\n",
       "       [0.6806328 , 0.73262473],\n",
       "       [0.6830505 , 0.73037115],\n",
       "       [0.68276703, 0.73063615],\n",
       "       [0.68330702, 0.73013117],\n",
       "       [0.6855216 , 0.72805229],\n",
       "       [0.69139607, 0.72247593],\n",
       "       [0.68468811, 0.72883619],\n",
       "       [0.69959416, 0.71454042],\n",
       "       [0.68736843, 0.72630892],\n",
       "       [0.67214714, 0.7404176 ],\n",
       "       [0.8625674 , 0.50594217],\n",
       "       [0.69067105, 0.72316907],\n",
       "       [0.68286137, 0.73054798],\n",
       "       [0.67275539, 0.73986498],\n",
       "       [0.68429114, 0.72920891],\n",
       "       [0.68397019, 0.72950996],\n",
       "       [0.70489529, 0.70931138],\n",
       "       [0.69140701, 0.72246546],\n",
       "       [0.68710144, 0.72656149],\n",
       "       [0.70805323, 0.70615906],\n",
       "       [0.68928935, 0.72448615],\n",
       "       [0.69676032, 0.71730402],\n",
       "       [0.69319823, 0.72074698],\n",
       "       [0.68684757, 0.7268015 ],\n",
       "       [0.68684676, 0.72680226],\n",
       "       [0.68960843, 0.72418244],\n",
       "       [0.67990259, 0.73330244],\n",
       "       [0.69079676, 0.72304898],\n",
       "       [0.68552549, 0.72804863],\n",
       "       [0.66012549, 0.75115534],\n",
       "       [0.6896675 , 0.72412619],\n",
       "       [0.74284931, 0.66945866],\n",
       "       [0.69438206, 0.71960653],\n",
       "       [0.6867465 , 0.726897  ],\n",
       "       [0.68454185, 0.72897357],\n",
       "       [0.69140701, 0.72246546],\n",
       "       [0.68684676, 0.72680226],\n",
       "       [0.69271671, 0.72120979],\n",
       "       [0.67594315, 0.73695377],\n",
       "       [0.71269092, 0.70147819],\n",
       "       [0.70330513, 0.71088811],\n",
       "       [0.67555127, 0.73731301],\n",
       "       [0.68697077, 0.72668505],\n",
       "       [0.69862029, 0.71549262],\n",
       "       [0.68806669, 0.72564746],\n",
       "       [0.68888427, 0.72487134],\n",
       "       [0.6932222 , 0.72072393],\n",
       "       [0.71919885, 0.6948043 ],\n",
       "       [0.71233851, 0.70183606]])"
      ]
     },
     "execution_count": 52,
     "metadata": {},
     "output_type": "execute_result"
    }
   ],
   "source": [
    "# normalizing the dataset\n",
    "\n",
    "from sklearn import preprocessing\n",
    "\n",
    "'''normalize the dataset with builtin library of python sklearn using preprocessing'''\n",
    "normalized = preprocessing.normalize(X)\n",
    "normalized"
   ]
  },
  {
   "cell_type": "code",
   "execution_count": 53,
   "id": "31e5bb23",
   "metadata": {},
   "outputs": [
    {
     "ename": "IndentationError",
     "evalue": "expected an indented block (Temp/ipykernel_7952/2849205649.py, line 17)",
     "output_type": "error",
     "traceback": [
      "\u001b[1;36m  File \u001b[1;32m\"C:\\Users\\NAVEED~1\\AppData\\Local\\Temp/ipykernel_7952/2849205649.py\"\u001b[1;36m, line \u001b[1;32m17\u001b[0m\n\u001b[1;33m    '''call method guass from top and make curve fit that is builtin function of scipy'''\u001b[0m\n\u001b[1;37m    ^\u001b[0m\n\u001b[1;31mIndentationError\u001b[0m\u001b[1;31m:\u001b[0m expected an indented block\n"
     ]
    }
   ],
   "source": [
    "# Import curve fitting package from scipy\n",
    "from scipy.optimize import curve_fit\n",
    "\n",
    "# x and y data for curve fit method\n",
    "\n",
    "xdata = X[\"1961\"]\n",
    "ydata = X[\"1962\"]\n",
    "\n",
    "'''guassian function that use in curve fit this is chunk of function that use in future function'''\n",
    "def Gauss(x, A, B):\n",
    "    y = A*np.exp(-1*B*x**2)\n",
    "    return y\n",
    "\n",
    "# fit model method\n",
    "def fitModel():\n",
    "    \n",
    "'''call method guass from top and make curve fit that is builtin function of scipy'''\n",
    "    parameters, covariance = curve_fit(Gauss,xdata, ydata)\n",
    "    \n",
    "#     split boht parameter\n",
    "    fit_A = parameters[0]\n",
    "    fit_B = parameters[1]\n",
    "    \n",
    "#     fit y \n",
    "    fit_y = Gauss(X, fit_A, fit_B)\n",
    "    \n",
    "#     plotting\n",
    "    plt.plot(xdata, ydata, 'o', label='data')\n",
    "    plt.plot(xdata, fit_y, '-', label='fit')\n",
    "    plt.legend()"
   ]
  },
  {
   "cell_type": "code",
   "execution_count": 54,
   "id": "5619d33d",
   "metadata": {},
   "outputs": [
    {
     "name": "stderr",
     "output_type": "stream",
     "text": [
      "E:\\Files\\lib\\site-packages\\scipy\\optimize\\minpack.py:833: OptimizeWarning: Covariance of the parameters could not be estimated\n",
      "  warnings.warn('Covariance of the parameters could not be estimated',\n"
     ]
    },
    {
     "data": {
      "image/png": "[encoded data removed]",
      "text/plain": [
       "<Figure size 432x288 with 1 Axes>"
      ]
     },
     "metadata": {
      "needs_background": "light"
     },
     "output_type": "display_data"
    }
   ],
   "source": [
    "fitModel()"
   ]
  },
  {
   "cell_type": "code",
   "execution_count": 55,
   "id": "df106053",
   "metadata": {},
   "outputs": [
    {
     "name": "stderr",
     "output_type": "stream",
     "text": [
      "E:\\Files\\lib\\site-packages\\sklearn\\cluster\\_kmeans.py:881: UserWarning: KMeans is known to have a memory leak on Windows with MKL, when there are less chunks than available threads. You can avoid it by setting the environment variable OMP_NUM_THREADS=1.\n",
      "  warnings.warn(\n"
     ]
    }
   ],
   "source": [
    "# prediction for future values\n",
    "from sklearn.cluster import KMeans\n",
    "\n",
    "'''how many numbers of cluster we make in this dataset checking probability of number of cluster'''\n",
    "wcss = []\n",
    "for i in range(1,11):\n",
    "    kmeans = KMeans(n_clusters = i, init = \"k-means++\")\n",
    "    kmeans.fit(Y)\n",
    "    wcss.append(kmeans.inertia_)"
   ]
  },
  {
   "cell_type": "code",
   "execution_count": 56,
   "id": "c489c887",
   "metadata": {},
   "outputs": [
    {
     "data": {
      "text/plain": [
       "[<matplotlib.lines.Line2D at 0x284bc50f400>]"
      ]
     },
     "execution_count": 56,
     "metadata": {},
     "output_type": "execute_result"
    },
    {
     "data": {
      "image/png": "[encoded data removed]",
      "text/plain": [
       "<Figure size 432x288 with 1 Axes>"
      ]
     },
     "metadata": {
      "needs_background": "light"
     },
     "output_type": "display_data"
    }
   ],
   "source": [
    "plt.plot(range(1,11),wcss)"
   ]
  },
  {
   "cell_type": "code",
   "execution_count": 67,
   "id": "8da43d51",
   "metadata": {},
   "outputs": [
    {
     "data": {
      "text/plain": [
       "array([0, 0, 0, 1, 2, 0, 2, 0, 0, 0, 2, 0, 1, 0, 0, 0, 0, 1, 1, 0, 0, 0,\n",
       "       0, 0, 0, 0, 0, 0, 0, 0, 0, 0, 0, 0, 2, 0, 2, 0, 2, 0, 2, 0, 0, 0,\n",
       "       0, 2, 0, 0, 0, 0, 0, 0, 0, 0, 0, 0, 2, 0, 2, 2, 2, 0, 0, 0, 0, 0,\n",
       "       0, 0, 0, 0, 0, 0, 0, 0, 1, 0, 0, 0, 0, 0, 0, 0, 0, 1, 0, 0, 0, 2,\n",
       "       2, 0, 1, 2, 0, 0, 0, 0, 0, 0, 2, 0, 2, 0, 0, 0, 0, 0, 0, 0, 0, 0,\n",
       "       0, 1, 0, 0, 0, 0, 0, 0, 0, 0, 0, 0, 0, 0, 0, 0, 0, 1, 0, 2, 0, 0,\n",
       "       0, 0])"
      ]
     },
     "execution_count": 67,
     "metadata": {},
     "output_type": "execute_result"
    }
   ],
   "source": [
    "\n",
    "'''after checking set num of cluster according to elbow chart'''\n",
    "\n",
    "\n",
    "kmeans = KMeans(n_clusters = 3, init = \"k-means++\")\n",
    "\n",
    "# fit and predict\n",
    "y_kmeans = kmeans.fit_predict(Y)\n",
    "\n",
    "y_kmeans"
   ]
  },
  {
   "cell_type": "code",
   "execution_count": 60,
   "id": "19764a98",
   "metadata": {},
   "outputs": [
    {
     "data": {
      "text/plain": [
       "<matplotlib.collections.PathCollection at 0x284bc5ef130>"
      ]
     },
     "execution_count": 60,
     "metadata": {},
     "output_type": "execute_result"
    },
    {
     "data": {
      "image/png": "[encoded data removed]",
      "text/plain": [
       "<Figure size 720x576 with 1 Axes>"
      ]
     },
     "metadata": {
      "needs_background": "light"
     },
     "output_type": "display_data"
    }
   ],
   "source": [
    "'''as we say we done with clustering then we also want to show are we right or not becuase visualization is \n",
    "beautiful technqiue that give us a better results according to our prediction let check using matplot'''\n",
    "\n",
    "\n",
    "plt.figure(figsize = (10,8))\n",
    "plt.title(\"K Mean Clustering\")\n",
    "#cluster 1\n",
    "plt.scatter(Y[y_kmeans==0,0], Y[y_kmeans==0,1], s=70, c=\"red\")\n",
    "\n",
    "#cluster 2\n",
    "plt.scatter(Y[y_kmeans==1,0], Y[y_kmeans==1,1], s=70, c=\"green\")\n",
    "\n",
    "#cluster 3\n",
    "plt.scatter(Y[y_kmeans==2,0], Y[y_kmeans==2,1], s=70, c=\"blue\")\n",
    "\n"
   ]
  },
  {
   "cell_type": "code",
   "execution_count": 65,
   "id": "16a04f05",
   "metadata": {},
   "outputs": [
    {
     "data": {
      "image/png": "[encoded data removed]",
      "text/plain": [
       "<Figure size 432x288 with 1 Axes>"
      ]
     },
     "metadata": {
      "needs_background": "light"
     },
     "output_type": "display_data"
    },
    {
     "data": {
      "image/png": "[encoded data removed]",
      "text/plain": [
       "<Figure size 432x288 with 1 Axes>"
      ]
     },
     "metadata": {
      "needs_background": "light"
     },
     "output_type": "display_data"
    },
    {
     "data": {
      "image/png": "[encoded data removed]",
      "text/plain": [
       "<Figure size 432x288 with 1 Axes>"
      ]
     },
     "metadata": {
      "needs_background": "light"
     },
     "output_type": "display_data"
    }
   ],
   "source": [
    "# Interpretation of the results.\n",
    "'''according to this results we totally satisfied because y_kmeans clearly define that starting records \n",
    "is belong to 0 cluster most of the records presents in this cluter and afte that we saw 1 and 2 accordingly\n",
    "after that we saw using matplot visualization that we have these clusters in also visualization\n",
    "\n",
    "red denote 0\n",
    "\n",
    "green denote 1\n",
    "\n",
    "blue denote 2'''\n",
    "#cluster 1\n",
    "c = [\"red\",\"green\", \"blue\"]\n",
    "for i in range(3):\n",
    "    string = f\"cluter {i+1}\"\n",
    "    plt.title(string)\n",
    "    plt.scatter(Y[y_kmeans==i,0], Y[y_kmeans==i,1], color=c[i])\n",
    "    plt.show()"
   ]
  },
  {
   "cell_type": "code",
   "execution_count": null,
   "id": "48dc0bc2",
   "metadata": {},
   "outputs": [],
   "source": []
  }
 ],
 "metadata": {
  "kernelspec": {
   "display_name": "Python 3 (ipykernel)",
   "language": "python",
   "name": "python3"
  },
  "language_info": {
   "codemirror_mode": {
    "name": "ipython",
    "version": 3
   },
   "file_extension": ".py",
   "mimetype": "text/x-python",
   "name": "python",
   "nbconvert_exporter": "python",
   "pygments_lexer": "ipython3",
   "version": "3.9.12"
  }
 },
 "nbformat": 4,
 "nbformat_minor": 5
}
